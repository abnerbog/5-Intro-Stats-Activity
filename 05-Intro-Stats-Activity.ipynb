{
  "cells": [
    {
      "cell_type": "markdown",
      "metadata": {},
      "source": [
        "# Intro Stats Activity\n",
        "\n",
        "# Intro Stats Activity\n",
        "\n",
        "Address each of the questions in the code chunk below and/or by typing\n",
        "outside the chunk (for written answers).\n",
        "\n",
        "## Problem 1\n",
        "\n",
        "Load the tidyverse and patchwork libraries and read in the Flashy and\n",
        "Pine datasets.\n",
        "\n",
        "## Problem 2\n",
        "\n",
        "Using the flashy dataset, make a pdf of the average basin rainfall\n",
        "(PPTAVG_BASIN) for the NorthEast AGGECOREGION. On that pdf, add vertical\n",
        "lines showing the mean, median, standard deviation, and IQR. Make each a\n",
        "different color and note which is which in a typed answer below this\n",
        "question. (or if you want an extra challenged, make a custom legend that\n",
        "shows this)\n",
        "\n",
        "## Problem 3\n",
        "\n",
        "Perform a Shapiro-Wilk test for normality on the data from question 2.\n",
        "Using the results from that test and the plot and stats from question 2,\n",
        "discuss whether or not the distribution is normal.\n",
        "\n",
        "## Problem 4\n",
        "\n",
        "Make a plot that shows the distribution of the data from the PINE\n",
        "watershed and the NFDR watershed (two pdfs on the same plot). Log the x\n",
        "axis.\n",
        "\n",
        "## Problem 5\n",
        "\n",
        "You want to compare how variable the discharge is in each of the\n",
        "watersheds in question 4. Which measure of spread would you use and why?\n",
        "If you wanted to measure the central tendency which measure would you\n",
        "use and why?\n",
        "\n",
        "## Problem 6\n",
        "\n",
        "Compute 3 measures of spread and 2 measures of central tendency for the\n",
        "PINE and NFDR watershed. (hint: use group_by() and summarize()) Be sure\n",
        "your code outputs the result. Which watershed has higher flow? Which one\n",
        "has more variable flow? How do you know?"
      ],
      "id": "4f29c9a1-d9de-4533-bdaa-05ea1cf134f7"
    }
  ],
  "nbformat": 4,
  "nbformat_minor": 5,
  "metadata": {
    "kernelspec": {
      "display_name": "Python 3",
      "language": "python",
      "name": "python3"
    }
  }
}